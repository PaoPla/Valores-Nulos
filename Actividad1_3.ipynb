{
  "nbformat": 4,
  "nbformat_minor": 0,
  "metadata": {
    "colab": {
      "provenance": [],
      "include_colab_link": true
    },
    "kernelspec": {
      "name": "python3",
      "display_name": "Python 3"
    },
    "language_info": {
      "name": "python"
    }
  },
  "cells": [
    {
      "cell_type": "markdown",
      "metadata": {
        "id": "view-in-github",
        "colab_type": "text"
      },
      "source": [
        "<a href=\"https://colab.research.google.com/github/PaoPla/Valores-Nulos/blob/main/Actividad1_3.ipynb\" target=\"_parent\"><img src=\"https://colab.research.google.com/assets/colab-badge.svg\" alt=\"Open In Colab\"/></a>"
      ]
    },
    {
      "cell_type": "code",
      "execution_count": 36,
      "metadata": {
        "id": "MqEVLPUn93OR"
      },
      "outputs": [],
      "source": [
        "#Importamos librerías requeridas\n",
        "import pandas as pd\n",
        "import numpy as np\n",
        "import matplotlib.pyplot as plt\n",
        "import seaborn as sns"
      ]
    },
    {
      "cell_type": "code",
      "source": [
        "#Carga desde un archivo .xlsx sin indice\n",
        "data= pd.read_csv(\"Ventas_totales.csv\")\n",
        "data"
      ],
      "metadata": {
        "colab": {
          "base_uri": "https://localhost:8080/",
          "height": 487
        },
        "id": "1CQBT0ZE9_vY",
        "outputId": "4f69a1d3-f6a6-461d-ca1d-798e2e3f3087"
      },
      "execution_count": 37,
      "outputs": [
        {
          "output_type": "execute_result",
          "data": {
            "text/plain": [
              "   indice_tiempo  ventas_precios_corrientes  ventas_precios_constantes  \\\n",
              "0     01/01/2017                    27858.9                    27477.3   \n",
              "1     01/02/2017                    25994.2                    25223.4   \n",
              "2     01/03/2017                    27780.0                    26334.3   \n",
              "3     01/04/2017                    29134.3                    27045.9   \n",
              "4     01/05/2017                    27969.0                    25631.9   \n",
              "..           ...                        ...                        ...   \n",
              "60    01/01/2022                   154517.1                    45463.4   \n",
              "61    01/02/2022                   152202.6                    23802.1   \n",
              "62    01/03/2022                       16.5                    24612.4   \n",
              "63    01/04/2022                   177148.1                    24140.5   \n",
              "64    01/05/2022                   179639.2                    23234.2   \n",
              "\n",
              "    ventas_totales_canal_venta  salon_ventas  canales_on_line  \\\n",
              "0                 2.785887e+07  2.759173e+07     2.671420e+05   \n",
              "1                 2.599420e+07  2.574918e+07     2.450208e+05   \n",
              "2                 2.778001e+07  2.747223e+07     3.077778e+05   \n",
              "3                 2.913427e+07  2.882748e+07     3.067927e+05   \n",
              "4                 2.796900e+07  2.756931e+07     3.996933e+05   \n",
              "..                         ...           ...              ...   \n",
              "60                1.545171e+08  1.496976e+08     4.819480e+06   \n",
              "61                1.522026e+08  1.484065e+08     3.796044e+06   \n",
              "62                1.689825e+08  1.643211e+08     4.661350e+05   \n",
              "63                1.771481e+08  1.730038e+08     4.144284e+06   \n",
              "64                1.796392e+08  1.753585e+08     4.280751e+06   \n",
              "\n",
              "    ventas_totales_medio_pago      efectivo  tarjetas_debito  \\\n",
              "0                2.785887e+07  1.023010e+07     6.864575e+06   \n",
              "1                2.599420e+07  9.719067e+06     6.438494e+06   \n",
              "2                2.778001e+07  1.024444e+07     6.908523e+06   \n",
              "3                2.913427e+07  1.031263e+07     7.454252e+06   \n",
              "4                2.796900e+07  1.014761e+07     6.735747e+06   \n",
              "..                        ...           ...              ...   \n",
              "60               1.545171e+08  4.696260e+07     4.605365e+07   \n",
              "61               1.522026e+08  4.629096e+07     4.528358e+07   \n",
              "62               1.689825e+08  5.126208e+07     4.736436e+07   \n",
              "63               1.771481e+08  5.319000e+07     5.006397e+07   \n",
              "64               1.796392e+08  5.273811e+07     4.988679e+07   \n",
              "\n",
              "    tarjetas_credito  ...       almacen     panaderia       lacteos  \\\n",
              "0       9.047205e+06  ...  6.705475e+06  9.459063e+05  2.880656e+06   \n",
              "1       8.309150e+06  ...  6.576625e+06  9.256186e+05  2.855640e+06   \n",
              "2       8.845010e+06  ...  7.437264e+06  1.016148e+06  3.188259e+06   \n",
              "3       9.458167e+06  ...  8.211244e+06  1.132396e+06  3.257140e+06   \n",
              "4       9.220930e+06  ...  7.651058e+06  1.033082e+06  3.232636e+06   \n",
              "..               ...  ...           ...           ...           ...   \n",
              "60      5.404833e+07  ...  3.750517e+07  4.860318e+06  1.610477e+07   \n",
              "61      5.370589e+07  ...  3.820979e+07  5.045920e+06  1.613982e+07   \n",
              "62               NaN  ...  4.541886e+07  5.922820e+06  1.841916e+07   \n",
              "63      6.535759e+07  ...  4.999168e+07  6.746167e+06  1.930946e+07   \n",
              "64      6.807009e+07  ...  5.015035e+07  6.667330e+06  2.012112e+07   \n",
              "\n",
              "          carnes  verduleria_fruteria  alimentos_preparados_rotiseria  \\\n",
              "0   2.606193e+06         1.050314e+06                    3.407774e+05   \n",
              "1   2.600084e+06         1.026167e+06                    3.282887e+05   \n",
              "2   2.824977e+06         1.075526e+06                    3.533352e+05   \n",
              "3   3.006159e+06         1.037213e+06                    3.596945e+05   \n",
              "4   2.799142e+06         9.826512e+05                    3.365680e+05   \n",
              "..           ...                  ...                             ...   \n",
              "60  1.740849e+07         6.138441e+06                    1.401929e+06   \n",
              "61  1.826074e+07         6.436028e+06                    1.370640e+06   \n",
              "62  2.082760e+07         6.886240e+06                    1.589119e+06   \n",
              "63  2.287784e+07         6.510666e+06                    1.719459e+06   \n",
              "64  2.284153e+07         6.314109e+06                    1.779483e+06   \n",
              "\n",
              "    articulos_limpieza_perfumeria  indumentaria_calzado_textiles_hogar  \\\n",
              "0                    4.397544e+06                         7.723718e+05   \n",
              "1                    4.053284e+06                         6.722905e+05   \n",
              "2                    4.354198e+06                         6.676967e+05   \n",
              "3                    4.355707e+06                         8.389482e+05   \n",
              "4                    4.206102e+06                         9.158951e+05   \n",
              "..                            ...                                  ...   \n",
              "60                   2.133021e+07                         3.782646e+06   \n",
              "61                   2.030545e+07                                  NaN   \n",
              "62                   2.294201e+07                         3.912852e+06   \n",
              "63                   2.313127e+07                         4.228054e+06   \n",
              "64                   2.357864e+07                         5.213153e+06   \n",
              "\n",
              "    electronicos_articulos_hogar         otros  \n",
              "0                   1.838507e+06  2.806660e+06  \n",
              "1                   1.257662e+06  2.354085e+06  \n",
              "2                   1.305675e+06  2.266189e+06  \n",
              "3                   1.535726e+06  2.146756e+06  \n",
              "4                   1.824462e+06  2.117971e+06  \n",
              "..                           ...           ...  \n",
              "60                  1.218755e+07  1.343307e+07  \n",
              "61                  9.189746e+06  1.330139e+07  \n",
              "62                  1.089879e+07           NaN  \n",
              "63                           NaN  1.191048e+07  \n",
              "64                  1.203960e+07  1.234998e+07  \n",
              "\n",
              "[65 rows x 24 columns]"
            ],
            "text/html": [
              "\n",
              "  <div id=\"df-118f38a2-400e-4cf1-9723-c1268bb84469\">\n",
              "    <div class=\"colab-df-container\">\n",
              "      <div>\n",
              "<style scoped>\n",
              "    .dataframe tbody tr th:only-of-type {\n",
              "        vertical-align: middle;\n",
              "    }\n",
              "\n",
              "    .dataframe tbody tr th {\n",
              "        vertical-align: top;\n",
              "    }\n",
              "\n",
              "    .dataframe thead th {\n",
              "        text-align: right;\n",
              "    }\n",
              "</style>\n",
              "<table border=\"1\" class=\"dataframe\">\n",
              "  <thead>\n",
              "    <tr style=\"text-align: right;\">\n",
              "      <th></th>\n",
              "      <th>indice_tiempo</th>\n",
              "      <th>ventas_precios_corrientes</th>\n",
              "      <th>ventas_precios_constantes</th>\n",
              "      <th>ventas_totales_canal_venta</th>\n",
              "      <th>salon_ventas</th>\n",
              "      <th>canales_on_line</th>\n",
              "      <th>ventas_totales_medio_pago</th>\n",
              "      <th>efectivo</th>\n",
              "      <th>tarjetas_debito</th>\n",
              "      <th>tarjetas_credito</th>\n",
              "      <th>...</th>\n",
              "      <th>almacen</th>\n",
              "      <th>panaderia</th>\n",
              "      <th>lacteos</th>\n",
              "      <th>carnes</th>\n",
              "      <th>verduleria_fruteria</th>\n",
              "      <th>alimentos_preparados_rotiseria</th>\n",
              "      <th>articulos_limpieza_perfumeria</th>\n",
              "      <th>indumentaria_calzado_textiles_hogar</th>\n",
              "      <th>electronicos_articulos_hogar</th>\n",
              "      <th>otros</th>\n",
              "    </tr>\n",
              "  </thead>\n",
              "  <tbody>\n",
              "    <tr>\n",
              "      <th>0</th>\n",
              "      <td>01/01/2017</td>\n",
              "      <td>27858.9</td>\n",
              "      <td>27477.3</td>\n",
              "      <td>2.785887e+07</td>\n",
              "      <td>2.759173e+07</td>\n",
              "      <td>2.671420e+05</td>\n",
              "      <td>2.785887e+07</td>\n",
              "      <td>1.023010e+07</td>\n",
              "      <td>6.864575e+06</td>\n",
              "      <td>9.047205e+06</td>\n",
              "      <td>...</td>\n",
              "      <td>6.705475e+06</td>\n",
              "      <td>9.459063e+05</td>\n",
              "      <td>2.880656e+06</td>\n",
              "      <td>2.606193e+06</td>\n",
              "      <td>1.050314e+06</td>\n",
              "      <td>3.407774e+05</td>\n",
              "      <td>4.397544e+06</td>\n",
              "      <td>7.723718e+05</td>\n",
              "      <td>1.838507e+06</td>\n",
              "      <td>2.806660e+06</td>\n",
              "    </tr>\n",
              "    <tr>\n",
              "      <th>1</th>\n",
              "      <td>01/02/2017</td>\n",
              "      <td>25994.2</td>\n",
              "      <td>25223.4</td>\n",
              "      <td>2.599420e+07</td>\n",
              "      <td>2.574918e+07</td>\n",
              "      <td>2.450208e+05</td>\n",
              "      <td>2.599420e+07</td>\n",
              "      <td>9.719067e+06</td>\n",
              "      <td>6.438494e+06</td>\n",
              "      <td>8.309150e+06</td>\n",
              "      <td>...</td>\n",
              "      <td>6.576625e+06</td>\n",
              "      <td>9.256186e+05</td>\n",
              "      <td>2.855640e+06</td>\n",
              "      <td>2.600084e+06</td>\n",
              "      <td>1.026167e+06</td>\n",
              "      <td>3.282887e+05</td>\n",
              "      <td>4.053284e+06</td>\n",
              "      <td>6.722905e+05</td>\n",
              "      <td>1.257662e+06</td>\n",
              "      <td>2.354085e+06</td>\n",
              "    </tr>\n",
              "    <tr>\n",
              "      <th>2</th>\n",
              "      <td>01/03/2017</td>\n",
              "      <td>27780.0</td>\n",
              "      <td>26334.3</td>\n",
              "      <td>2.778001e+07</td>\n",
              "      <td>2.747223e+07</td>\n",
              "      <td>3.077778e+05</td>\n",
              "      <td>2.778001e+07</td>\n",
              "      <td>1.024444e+07</td>\n",
              "      <td>6.908523e+06</td>\n",
              "      <td>8.845010e+06</td>\n",
              "      <td>...</td>\n",
              "      <td>7.437264e+06</td>\n",
              "      <td>1.016148e+06</td>\n",
              "      <td>3.188259e+06</td>\n",
              "      <td>2.824977e+06</td>\n",
              "      <td>1.075526e+06</td>\n",
              "      <td>3.533352e+05</td>\n",
              "      <td>4.354198e+06</td>\n",
              "      <td>6.676967e+05</td>\n",
              "      <td>1.305675e+06</td>\n",
              "      <td>2.266189e+06</td>\n",
              "    </tr>\n",
              "    <tr>\n",
              "      <th>3</th>\n",
              "      <td>01/04/2017</td>\n",
              "      <td>29134.3</td>\n",
              "      <td>27045.9</td>\n",
              "      <td>2.913427e+07</td>\n",
              "      <td>2.882748e+07</td>\n",
              "      <td>3.067927e+05</td>\n",
              "      <td>2.913427e+07</td>\n",
              "      <td>1.031263e+07</td>\n",
              "      <td>7.454252e+06</td>\n",
              "      <td>9.458167e+06</td>\n",
              "      <td>...</td>\n",
              "      <td>8.211244e+06</td>\n",
              "      <td>1.132396e+06</td>\n",
              "      <td>3.257140e+06</td>\n",
              "      <td>3.006159e+06</td>\n",
              "      <td>1.037213e+06</td>\n",
              "      <td>3.596945e+05</td>\n",
              "      <td>4.355707e+06</td>\n",
              "      <td>8.389482e+05</td>\n",
              "      <td>1.535726e+06</td>\n",
              "      <td>2.146756e+06</td>\n",
              "    </tr>\n",
              "    <tr>\n",
              "      <th>4</th>\n",
              "      <td>01/05/2017</td>\n",
              "      <td>27969.0</td>\n",
              "      <td>25631.9</td>\n",
              "      <td>2.796900e+07</td>\n",
              "      <td>2.756931e+07</td>\n",
              "      <td>3.996933e+05</td>\n",
              "      <td>2.796900e+07</td>\n",
              "      <td>1.014761e+07</td>\n",
              "      <td>6.735747e+06</td>\n",
              "      <td>9.220930e+06</td>\n",
              "      <td>...</td>\n",
              "      <td>7.651058e+06</td>\n",
              "      <td>1.033082e+06</td>\n",
              "      <td>3.232636e+06</td>\n",
              "      <td>2.799142e+06</td>\n",
              "      <td>9.826512e+05</td>\n",
              "      <td>3.365680e+05</td>\n",
              "      <td>4.206102e+06</td>\n",
              "      <td>9.158951e+05</td>\n",
              "      <td>1.824462e+06</td>\n",
              "      <td>2.117971e+06</td>\n",
              "    </tr>\n",
              "    <tr>\n",
              "      <th>...</th>\n",
              "      <td>...</td>\n",
              "      <td>...</td>\n",
              "      <td>...</td>\n",
              "      <td>...</td>\n",
              "      <td>...</td>\n",
              "      <td>...</td>\n",
              "      <td>...</td>\n",
              "      <td>...</td>\n",
              "      <td>...</td>\n",
              "      <td>...</td>\n",
              "      <td>...</td>\n",
              "      <td>...</td>\n",
              "      <td>...</td>\n",
              "      <td>...</td>\n",
              "      <td>...</td>\n",
              "      <td>...</td>\n",
              "      <td>...</td>\n",
              "      <td>...</td>\n",
              "      <td>...</td>\n",
              "      <td>...</td>\n",
              "      <td>...</td>\n",
              "    </tr>\n",
              "    <tr>\n",
              "      <th>60</th>\n",
              "      <td>01/01/2022</td>\n",
              "      <td>154517.1</td>\n",
              "      <td>45463.4</td>\n",
              "      <td>1.545171e+08</td>\n",
              "      <td>1.496976e+08</td>\n",
              "      <td>4.819480e+06</td>\n",
              "      <td>1.545171e+08</td>\n",
              "      <td>4.696260e+07</td>\n",
              "      <td>4.605365e+07</td>\n",
              "      <td>5.404833e+07</td>\n",
              "      <td>...</td>\n",
              "      <td>3.750517e+07</td>\n",
              "      <td>4.860318e+06</td>\n",
              "      <td>1.610477e+07</td>\n",
              "      <td>1.740849e+07</td>\n",
              "      <td>6.138441e+06</td>\n",
              "      <td>1.401929e+06</td>\n",
              "      <td>2.133021e+07</td>\n",
              "      <td>3.782646e+06</td>\n",
              "      <td>1.218755e+07</td>\n",
              "      <td>1.343307e+07</td>\n",
              "    </tr>\n",
              "    <tr>\n",
              "      <th>61</th>\n",
              "      <td>01/02/2022</td>\n",
              "      <td>152202.6</td>\n",
              "      <td>23802.1</td>\n",
              "      <td>1.522026e+08</td>\n",
              "      <td>1.484065e+08</td>\n",
              "      <td>3.796044e+06</td>\n",
              "      <td>1.522026e+08</td>\n",
              "      <td>4.629096e+07</td>\n",
              "      <td>4.528358e+07</td>\n",
              "      <td>5.370589e+07</td>\n",
              "      <td>...</td>\n",
              "      <td>3.820979e+07</td>\n",
              "      <td>5.045920e+06</td>\n",
              "      <td>1.613982e+07</td>\n",
              "      <td>1.826074e+07</td>\n",
              "      <td>6.436028e+06</td>\n",
              "      <td>1.370640e+06</td>\n",
              "      <td>2.030545e+07</td>\n",
              "      <td>NaN</td>\n",
              "      <td>9.189746e+06</td>\n",
              "      <td>1.330139e+07</td>\n",
              "    </tr>\n",
              "    <tr>\n",
              "      <th>62</th>\n",
              "      <td>01/03/2022</td>\n",
              "      <td>16.5</td>\n",
              "      <td>24612.4</td>\n",
              "      <td>1.689825e+08</td>\n",
              "      <td>1.643211e+08</td>\n",
              "      <td>4.661350e+05</td>\n",
              "      <td>1.689825e+08</td>\n",
              "      <td>5.126208e+07</td>\n",
              "      <td>4.736436e+07</td>\n",
              "      <td>NaN</td>\n",
              "      <td>...</td>\n",
              "      <td>4.541886e+07</td>\n",
              "      <td>5.922820e+06</td>\n",
              "      <td>1.841916e+07</td>\n",
              "      <td>2.082760e+07</td>\n",
              "      <td>6.886240e+06</td>\n",
              "      <td>1.589119e+06</td>\n",
              "      <td>2.294201e+07</td>\n",
              "      <td>3.912852e+06</td>\n",
              "      <td>1.089879e+07</td>\n",
              "      <td>NaN</td>\n",
              "    </tr>\n",
              "    <tr>\n",
              "      <th>63</th>\n",
              "      <td>01/04/2022</td>\n",
              "      <td>177148.1</td>\n",
              "      <td>24140.5</td>\n",
              "      <td>1.771481e+08</td>\n",
              "      <td>1.730038e+08</td>\n",
              "      <td>4.144284e+06</td>\n",
              "      <td>1.771481e+08</td>\n",
              "      <td>5.319000e+07</td>\n",
              "      <td>5.006397e+07</td>\n",
              "      <td>6.535759e+07</td>\n",
              "      <td>...</td>\n",
              "      <td>4.999168e+07</td>\n",
              "      <td>6.746167e+06</td>\n",
              "      <td>1.930946e+07</td>\n",
              "      <td>2.287784e+07</td>\n",
              "      <td>6.510666e+06</td>\n",
              "      <td>1.719459e+06</td>\n",
              "      <td>2.313127e+07</td>\n",
              "      <td>4.228054e+06</td>\n",
              "      <td>NaN</td>\n",
              "      <td>1.191048e+07</td>\n",
              "    </tr>\n",
              "    <tr>\n",
              "      <th>64</th>\n",
              "      <td>01/05/2022</td>\n",
              "      <td>179639.2</td>\n",
              "      <td>23234.2</td>\n",
              "      <td>1.796392e+08</td>\n",
              "      <td>1.753585e+08</td>\n",
              "      <td>4.280751e+06</td>\n",
              "      <td>1.796392e+08</td>\n",
              "      <td>5.273811e+07</td>\n",
              "      <td>4.988679e+07</td>\n",
              "      <td>6.807009e+07</td>\n",
              "      <td>...</td>\n",
              "      <td>5.015035e+07</td>\n",
              "      <td>6.667330e+06</td>\n",
              "      <td>2.012112e+07</td>\n",
              "      <td>2.284153e+07</td>\n",
              "      <td>6.314109e+06</td>\n",
              "      <td>1.779483e+06</td>\n",
              "      <td>2.357864e+07</td>\n",
              "      <td>5.213153e+06</td>\n",
              "      <td>1.203960e+07</td>\n",
              "      <td>1.234998e+07</td>\n",
              "    </tr>\n",
              "  </tbody>\n",
              "</table>\n",
              "<p>65 rows × 24 columns</p>\n",
              "</div>\n",
              "      <button class=\"colab-df-convert\" onclick=\"convertToInteractive('df-118f38a2-400e-4cf1-9723-c1268bb84469')\"\n",
              "              title=\"Convert this dataframe to an interactive table.\"\n",
              "              style=\"display:none;\">\n",
              "        \n",
              "  <svg xmlns=\"http://www.w3.org/2000/svg\" height=\"24px\"viewBox=\"0 0 24 24\"\n",
              "       width=\"24px\">\n",
              "    <path d=\"M0 0h24v24H0V0z\" fill=\"none\"/>\n",
              "    <path d=\"M18.56 5.44l.94 2.06.94-2.06 2.06-.94-2.06-.94-.94-2.06-.94 2.06-2.06.94zm-11 1L8.5 8.5l.94-2.06 2.06-.94-2.06-.94L8.5 2.5l-.94 2.06-2.06.94zm10 10l.94 2.06.94-2.06 2.06-.94-2.06-.94-.94-2.06-.94 2.06-2.06.94z\"/><path d=\"M17.41 7.96l-1.37-1.37c-.4-.4-.92-.59-1.43-.59-.52 0-1.04.2-1.43.59L10.3 9.45l-7.72 7.72c-.78.78-.78 2.05 0 2.83L4 21.41c.39.39.9.59 1.41.59.51 0 1.02-.2 1.41-.59l7.78-7.78 2.81-2.81c.8-.78.8-2.07 0-2.86zM5.41 20L4 18.59l7.72-7.72 1.47 1.35L5.41 20z\"/>\n",
              "  </svg>\n",
              "      </button>\n",
              "      \n",
              "  <style>\n",
              "    .colab-df-container {\n",
              "      display:flex;\n",
              "      flex-wrap:wrap;\n",
              "      gap: 12px;\n",
              "    }\n",
              "\n",
              "    .colab-df-convert {\n",
              "      background-color: #E8F0FE;\n",
              "      border: none;\n",
              "      border-radius: 50%;\n",
              "      cursor: pointer;\n",
              "      display: none;\n",
              "      fill: #1967D2;\n",
              "      height: 32px;\n",
              "      padding: 0 0 0 0;\n",
              "      width: 32px;\n",
              "    }\n",
              "\n",
              "    .colab-df-convert:hover {\n",
              "      background-color: #E2EBFA;\n",
              "      box-shadow: 0px 1px 2px rgba(60, 64, 67, 0.3), 0px 1px 3px 1px rgba(60, 64, 67, 0.15);\n",
              "      fill: #174EA6;\n",
              "    }\n",
              "\n",
              "    [theme=dark] .colab-df-convert {\n",
              "      background-color: #3B4455;\n",
              "      fill: #D2E3FC;\n",
              "    }\n",
              "\n",
              "    [theme=dark] .colab-df-convert:hover {\n",
              "      background-color: #434B5C;\n",
              "      box-shadow: 0px 1px 3px 1px rgba(0, 0, 0, 0.15);\n",
              "      filter: drop-shadow(0px 1px 2px rgba(0, 0, 0, 0.3));\n",
              "      fill: #FFFFFF;\n",
              "    }\n",
              "  </style>\n",
              "\n",
              "      <script>\n",
              "        const buttonEl =\n",
              "          document.querySelector('#df-118f38a2-400e-4cf1-9723-c1268bb84469 button.colab-df-convert');\n",
              "        buttonEl.style.display =\n",
              "          google.colab.kernel.accessAllowed ? 'block' : 'none';\n",
              "\n",
              "        async function convertToInteractive(key) {\n",
              "          const element = document.querySelector('#df-118f38a2-400e-4cf1-9723-c1268bb84469');\n",
              "          const dataTable =\n",
              "            await google.colab.kernel.invokeFunction('convertToInteractive',\n",
              "                                                     [key], {});\n",
              "          if (!dataTable) return;\n",
              "\n",
              "          const docLinkHtml = 'Like what you see? Visit the ' +\n",
              "            '<a target=\"_blank\" href=https://colab.research.google.com/notebooks/data_table.ipynb>data table notebook</a>'\n",
              "            + ' to learn more about interactive tables.';\n",
              "          element.innerHTML = '';\n",
              "          dataTable['output_type'] = 'display_data';\n",
              "          await google.colab.output.renderOutput(dataTable, element);\n",
              "          const docLink = document.createElement('div');\n",
              "          docLink.innerHTML = docLinkHtml;\n",
              "          element.appendChild(docLink);\n",
              "        }\n",
              "      </script>\n",
              "    </div>\n",
              "  </div>\n",
              "  "
            ]
          },
          "metadata": {},
          "execution_count": 37
        }
      ]
    },
    {
      "cell_type": "code",
      "source": [
        "data.isnull().sum()"
      ],
      "metadata": {
        "colab": {
          "base_uri": "https://localhost:8080/"
        },
        "id": "OzEbVJT4-bCq",
        "outputId": "5bd6299e-3990-4cc3-9e22-8a93b00d9fe0"
      },
      "execution_count": 38,
      "outputs": [
        {
          "output_type": "execute_result",
          "data": {
            "text/plain": [
              "indice_tiempo                           0\n",
              "ventas_precios_corrientes               0\n",
              "ventas_precios_constantes               0\n",
              "ventas_totales_canal_venta              0\n",
              "salon_ventas                            6\n",
              "canales_on_line                         0\n",
              "ventas_totales_medio_pago               0\n",
              "efectivo                                0\n",
              "tarjetas_debito                         1\n",
              "tarjetas_credito                        7\n",
              "otros_medios                            1\n",
              "ventas_totales_grupo_articulos          0\n",
              "subtotal_ventas_alimentos_bebidas      10\n",
              "bebidas                                 1\n",
              "almacen                                 2\n",
              "panaderia                               1\n",
              "lacteos                                 1\n",
              "carnes                                  1\n",
              "verduleria_fruteria                     1\n",
              "alimentos_preparados_rotiseria          1\n",
              "articulos_limpieza_perfumeria           0\n",
              "indumentaria_calzado_textiles_hogar     2\n",
              "electronicos_articulos_hogar            3\n",
              "otros                                   4\n",
              "dtype: int64"
            ]
          },
          "metadata": {},
          "execution_count": 38
        }
      ]
    },
    {
      "cell_type": "code",
      "source": [
        "#Ver los valores nulos en todo el dataframe se le agrega un sum\n",
        "valores_nulost=data.isnull().sum().sum()\n",
        "valores_nulost"
      ],
      "metadata": {
        "colab": {
          "base_uri": "https://localhost:8080/"
        },
        "id": "YS9WsUJG-4eC",
        "outputId": "ae4c0151-7563-4972-ce70-902b041b884e"
      },
      "execution_count": 39,
      "outputs": [
        {
          "output_type": "execute_result",
          "data": {
            "text/plain": [
              "42"
            ]
          },
          "metadata": {},
          "execution_count": 39
        }
      ]
    },
    {
      "cell_type": "markdown",
      "source": [
        "## **SUSTITUCION DATOS NULOS POR DIFERENTES METODOS**"
      ],
      "metadata": {
        "id": "3vHrab6H-h81"
      }
    },
    {
      "cell_type": "code",
      "source": [
        "#En este caso utilice el promedio debido a que son 6 datos nulos por lo cual el utilizar el promedio ayuda a que se mantennga el rango de datos de la columna\n",
        "data[\"salon_ventas\"]=data[\"salon_ventas\"].fillna(round(data[\"salon_ventas\"].mean(),1))\n",
        "#Corroboramos valores nulos\n",
        "valores_nulos=data.isnull().sum()\n",
        "valores_nulos"
      ],
      "metadata": {
        "colab": {
          "base_uri": "https://localhost:8080/"
        },
        "id": "39QREGK9Bwzw",
        "outputId": "95c2429c-28d7-445d-fa3b-ee334a1f2aa5"
      },
      "execution_count": 40,
      "outputs": [
        {
          "output_type": "execute_result",
          "data": {
            "text/plain": [
              "indice_tiempo                           0\n",
              "ventas_precios_corrientes               0\n",
              "ventas_precios_constantes               0\n",
              "ventas_totales_canal_venta              0\n",
              "salon_ventas                            0\n",
              "canales_on_line                         0\n",
              "ventas_totales_medio_pago               0\n",
              "efectivo                                0\n",
              "tarjetas_debito                         1\n",
              "tarjetas_credito                        7\n",
              "otros_medios                            1\n",
              "ventas_totales_grupo_articulos          0\n",
              "subtotal_ventas_alimentos_bebidas      10\n",
              "bebidas                                 1\n",
              "almacen                                 2\n",
              "panaderia                               1\n",
              "lacteos                                 1\n",
              "carnes                                  1\n",
              "verduleria_fruteria                     1\n",
              "alimentos_preparados_rotiseria          1\n",
              "articulos_limpieza_perfumeria           0\n",
              "indumentaria_calzado_textiles_hogar     2\n",
              "electronicos_articulos_hogar            3\n",
              "otros                                   4\n",
              "dtype: int64"
            ]
          },
          "metadata": {},
          "execution_count": 40
        }
      ]
    },
    {
      "cell_type": "code",
      "source": [
        "#En el caso de las tarjetas de debito utilice el metodo forward debido a que es solo un dato y el impacto en la columna no es alto\n",
        "data[\"tarjetas_debito\"] =data[\"tarjetas_debito\"].fillna(method=\"ffill\")\n",
        "#Corroboramos valores nulos\n",
        "valores_nulos=data.isnull().sum()\n",
        "valores_nulos"
      ],
      "metadata": {
        "colab": {
          "base_uri": "https://localhost:8080/"
        },
        "id": "ntbGvwreClEK",
        "outputId": "ebf3e38b-560a-49c3-8b6f-3d10544e3e39"
      },
      "execution_count": 41,
      "outputs": [
        {
          "output_type": "execute_result",
          "data": {
            "text/plain": [
              "indice_tiempo                           0\n",
              "ventas_precios_corrientes               0\n",
              "ventas_precios_constantes               0\n",
              "ventas_totales_canal_venta              0\n",
              "salon_ventas                            0\n",
              "canales_on_line                         0\n",
              "ventas_totales_medio_pago               0\n",
              "efectivo                                0\n",
              "tarjetas_debito                         0\n",
              "tarjetas_credito                        7\n",
              "otros_medios                            1\n",
              "ventas_totales_grupo_articulos          0\n",
              "subtotal_ventas_alimentos_bebidas      10\n",
              "bebidas                                 1\n",
              "almacen                                 2\n",
              "panaderia                               1\n",
              "lacteos                                 1\n",
              "carnes                                  1\n",
              "verduleria_fruteria                     1\n",
              "alimentos_preparados_rotiseria          1\n",
              "articulos_limpieza_perfumeria           0\n",
              "indumentaria_calzado_textiles_hogar     2\n",
              "electronicos_articulos_hogar            3\n",
              "otros                                   4\n",
              "dtype: int64"
            ]
          },
          "metadata": {},
          "execution_count": 41
        }
      ]
    },
    {
      "cell_type": "code",
      "source": [
        "#Para estos datos se utilizo la mediana ya que se presentan 7 de los mismos, siendo que es una gran cantidad y necesario que se manetenga un balance\n",
        "#y al ser tantos datos nulos el promedio no seria lo adecuado ya que hay varios datos faltantes\n",
        "data[\"tarjetas_credito\"]=data[\"tarjetas_credito\"].fillna(round(data[\"tarjetas_credito\"].median(),1))\n",
        "#Corroboramos valores nulos\n",
        "valores_nulos=data.isnull().sum()\n",
        "valores_nulos"
      ],
      "metadata": {
        "colab": {
          "base_uri": "https://localhost:8080/"
        },
        "id": "EHoWTmjeDIsB",
        "outputId": "db57ff36-98c2-4c5d-951f-a8e3a60bfe21"
      },
      "execution_count": 42,
      "outputs": [
        {
          "output_type": "execute_result",
          "data": {
            "text/plain": [
              "indice_tiempo                           0\n",
              "ventas_precios_corrientes               0\n",
              "ventas_precios_constantes               0\n",
              "ventas_totales_canal_venta              0\n",
              "salon_ventas                            0\n",
              "canales_on_line                         0\n",
              "ventas_totales_medio_pago               0\n",
              "efectivo                                0\n",
              "tarjetas_debito                         0\n",
              "tarjetas_credito                        0\n",
              "otros_medios                            1\n",
              "ventas_totales_grupo_articulos          0\n",
              "subtotal_ventas_alimentos_bebidas      10\n",
              "bebidas                                 1\n",
              "almacen                                 2\n",
              "panaderia                               1\n",
              "lacteos                                 1\n",
              "carnes                                  1\n",
              "verduleria_fruteria                     1\n",
              "alimentos_preparados_rotiseria          1\n",
              "articulos_limpieza_perfumeria           0\n",
              "indumentaria_calzado_textiles_hogar     2\n",
              "electronicos_articulos_hogar            3\n",
              "otros                                   4\n",
              "dtype: int64"
            ]
          },
          "metadata": {},
          "execution_count": 42
        }
      ]
    },
    {
      "cell_type": "code",
      "source": [
        "#En otros medios al ser una columna que no especifica realmente de donde provienen esas ventas preferi utilizar el rellenar el dato con un 0 ya que este no tendra mayor impato y permitira saber que en este caso no hubo un registro del mismo\n",
        "data[\"otros_medios\"]= data[\"otros_medios\"].fillna(0) \n",
        "#Corroboramos valores nulos\n",
        "valores_nulos=data.isnull().sum()\n",
        "valores_nulos "
      ],
      "metadata": {
        "colab": {
          "base_uri": "https://localhost:8080/"
        },
        "id": "B8zYHbCDDh9C",
        "outputId": "947c9b3f-ade4-4e52-815a-fbc4a339aec2"
      },
      "execution_count": 43,
      "outputs": [
        {
          "output_type": "execute_result",
          "data": {
            "text/plain": [
              "indice_tiempo                           0\n",
              "ventas_precios_corrientes               0\n",
              "ventas_precios_constantes               0\n",
              "ventas_totales_canal_venta              0\n",
              "salon_ventas                            0\n",
              "canales_on_line                         0\n",
              "ventas_totales_medio_pago               0\n",
              "efectivo                                0\n",
              "tarjetas_debito                         0\n",
              "tarjetas_credito                        0\n",
              "otros_medios                            0\n",
              "ventas_totales_grupo_articulos          0\n",
              "subtotal_ventas_alimentos_bebidas      10\n",
              "bebidas                                 1\n",
              "almacen                                 2\n",
              "panaderia                               1\n",
              "lacteos                                 1\n",
              "carnes                                  1\n",
              "verduleria_fruteria                     1\n",
              "alimentos_preparados_rotiseria          1\n",
              "articulos_limpieza_perfumeria           0\n",
              "indumentaria_calzado_textiles_hogar     2\n",
              "electronicos_articulos_hogar            3\n",
              "otros                                   4\n",
              "dtype: int64"
            ]
          },
          "metadata": {},
          "execution_count": 43
        }
      ]
    },
    {
      "cell_type": "code",
      "source": [
        "#Para estos datos se utilizo la mediana ya que se presentan 7 de los mismos, siendo que es una gran cantidad y necesario que se manetenga un balance\n",
        "#y al ser tantos datos nulos el promedio no seria lo adecuado ya que hay varios datos faltantes\n",
        "data[\"subtotal_ventas_alimentos_bebidas\"]=data[\"subtotal_ventas_alimentos_bebidas\"].fillna(round(data[\"subtotal_ventas_alimentos_bebidas\"].median(),1))\n",
        "#Corroboramos valores nulos\n",
        "valores_nulos=data.isnull().sum()\n",
        "valores_nulos"
      ],
      "metadata": {
        "colab": {
          "base_uri": "https://localhost:8080/"
        },
        "id": "dadv_9gYD-mB",
        "outputId": "a16ad962-b412-49c0-af99-b9fe57b6085f"
      },
      "execution_count": 44,
      "outputs": [
        {
          "output_type": "execute_result",
          "data": {
            "text/plain": [
              "indice_tiempo                          0\n",
              "ventas_precios_corrientes              0\n",
              "ventas_precios_constantes              0\n",
              "ventas_totales_canal_venta             0\n",
              "salon_ventas                           0\n",
              "canales_on_line                        0\n",
              "ventas_totales_medio_pago              0\n",
              "efectivo                               0\n",
              "tarjetas_debito                        0\n",
              "tarjetas_credito                       0\n",
              "otros_medios                           0\n",
              "ventas_totales_grupo_articulos         0\n",
              "subtotal_ventas_alimentos_bebidas      0\n",
              "bebidas                                1\n",
              "almacen                                2\n",
              "panaderia                              1\n",
              "lacteos                                1\n",
              "carnes                                 1\n",
              "verduleria_fruteria                    1\n",
              "alimentos_preparados_rotiseria         1\n",
              "articulos_limpieza_perfumeria          0\n",
              "indumentaria_calzado_textiles_hogar    2\n",
              "electronicos_articulos_hogar           3\n",
              "otros                                  4\n",
              "dtype: int64"
            ]
          },
          "metadata": {},
          "execution_count": 44
        }
      ]
    },
    {
      "cell_type": "code",
      "source": [
        "#En este caso se utilizo el metodo backwards debido a que solo se presenta un dato nulo y en este caso se toma el dato anterior al que esta nulo, siendo que al ser un solo dato este metodo se puede utilizar de manera eficaz\n",
        "data[\"bebidas\"] =data[\"bebidas\"].fillna(method=\"bfill\")\n",
        "#Corroboramos valores nulos\n",
        "valores_nulos=data.isnull().sum()\n",
        "valores_nulos "
      ],
      "metadata": {
        "colab": {
          "base_uri": "https://localhost:8080/"
        },
        "id": "23rDHtxpEVrv",
        "outputId": "03293c36-652a-41f5-f43a-2be31b6ff993"
      },
      "execution_count": 45,
      "outputs": [
        {
          "output_type": "execute_result",
          "data": {
            "text/plain": [
              "indice_tiempo                          0\n",
              "ventas_precios_corrientes              0\n",
              "ventas_precios_constantes              0\n",
              "ventas_totales_canal_venta             0\n",
              "salon_ventas                           0\n",
              "canales_on_line                        0\n",
              "ventas_totales_medio_pago              0\n",
              "efectivo                               0\n",
              "tarjetas_debito                        0\n",
              "tarjetas_credito                       0\n",
              "otros_medios                           0\n",
              "ventas_totales_grupo_articulos         0\n",
              "subtotal_ventas_alimentos_bebidas      0\n",
              "bebidas                                0\n",
              "almacen                                2\n",
              "panaderia                              1\n",
              "lacteos                                1\n",
              "carnes                                 1\n",
              "verduleria_fruteria                    1\n",
              "alimentos_preparados_rotiseria         1\n",
              "articulos_limpieza_perfumeria          0\n",
              "indumentaria_calzado_textiles_hogar    2\n",
              "electronicos_articulos_hogar           3\n",
              "otros                                  4\n",
              "dtype: int64"
            ]
          },
          "metadata": {},
          "execution_count": 45
        }
      ]
    },
    {
      "cell_type": "code",
      "source": [
        "#En estos casos nos encontramos que tienen de 1 a 2 datos nulos por lo cual el utilizar el promedio es efectivo ya que no hay una gran cantidad de datos faltantes dando la facilidad de despues analizar la columna de manera estadistica sin estar afectada\n",
        "data[\"almacen\"]=data[\"almacen\"].fillna(round(data[\"almacen\"].mean(),1))\n",
        "data[\"panaderia\"]= data[\"panaderia\"].fillna(round(data[\"panaderia\"].mean(),1)) \n",
        "data[\"lacteos\"]= data[\"lacteos\"].fillna(round(data[\"lacteos\"].mean(),1))\n",
        "data[\"carnes\"]= data[\"carnes\"].fillna(round(data[\"carnes\"].mean(),1))\n",
        "data[\"verduleria_fruteria\"]= data[\"verduleria_fruteria\"].fillna(round(data[\"verduleria_fruteria\"].mean(),1))\n",
        "data[\"alimentos_preparados_rotiseria\"]= data[\"alimentos_preparados_rotiseria\"].fillna(round(data[\"alimentos_preparados_rotiseria\"].mean(),1))\n",
        "#Corroboramos valores nulos\n",
        "valores_nulos=data.isnull().sum()\n",
        "valores_nulos "
      ],
      "metadata": {
        "colab": {
          "base_uri": "https://localhost:8080/"
        },
        "id": "GaGOGtYTEyX3",
        "outputId": "d37709b5-6937-4639-eca0-2bf037907e7d"
      },
      "execution_count": 46,
      "outputs": [
        {
          "output_type": "execute_result",
          "data": {
            "text/plain": [
              "indice_tiempo                          0\n",
              "ventas_precios_corrientes              0\n",
              "ventas_precios_constantes              0\n",
              "ventas_totales_canal_venta             0\n",
              "salon_ventas                           0\n",
              "canales_on_line                        0\n",
              "ventas_totales_medio_pago              0\n",
              "efectivo                               0\n",
              "tarjetas_debito                        0\n",
              "tarjetas_credito                       0\n",
              "otros_medios                           0\n",
              "ventas_totales_grupo_articulos         0\n",
              "subtotal_ventas_alimentos_bebidas      0\n",
              "bebidas                                0\n",
              "almacen                                0\n",
              "panaderia                              0\n",
              "lacteos                                0\n",
              "carnes                                 0\n",
              "verduleria_fruteria                    0\n",
              "alimentos_preparados_rotiseria         0\n",
              "articulos_limpieza_perfumeria          0\n",
              "indumentaria_calzado_textiles_hogar    2\n",
              "electronicos_articulos_hogar           3\n",
              "otros                                  4\n",
              "dtype: int64"
            ]
          },
          "metadata": {},
          "execution_count": 46
        }
      ]
    },
    {
      "cell_type": "code",
      "source": [
        "#Para esta columna se utilizo la mediana debido a que son dos datos nulos \n",
        "data[\"indumentaria_calzado_textiles_hogar\"]=data[\"indumentaria_calzado_textiles_hogar\"].fillna(round(data[\"indumentaria_calzado_textiles_hogar\"].median(),1))\n",
        "#Corroboramos valores nulos\n",
        "valores_nulos=data.isnull().sum()\n",
        "valores_nulos"
      ],
      "metadata": {
        "colab": {
          "base_uri": "https://localhost:8080/"
        },
        "id": "n4_rfc8-Ho6C",
        "outputId": "3e17ee2e-33e8-4e95-9740-b93cc2fdbc12"
      },
      "execution_count": 47,
      "outputs": [
        {
          "output_type": "execute_result",
          "data": {
            "text/plain": [
              "indice_tiempo                          0\n",
              "ventas_precios_corrientes              0\n",
              "ventas_precios_constantes              0\n",
              "ventas_totales_canal_venta             0\n",
              "salon_ventas                           0\n",
              "canales_on_line                        0\n",
              "ventas_totales_medio_pago              0\n",
              "efectivo                               0\n",
              "tarjetas_debito                        0\n",
              "tarjetas_credito                       0\n",
              "otros_medios                           0\n",
              "ventas_totales_grupo_articulos         0\n",
              "subtotal_ventas_alimentos_bebidas      0\n",
              "bebidas                                0\n",
              "almacen                                0\n",
              "panaderia                              0\n",
              "lacteos                                0\n",
              "carnes                                 0\n",
              "verduleria_fruteria                    0\n",
              "alimentos_preparados_rotiseria         0\n",
              "articulos_limpieza_perfumeria          0\n",
              "indumentaria_calzado_textiles_hogar    0\n",
              "electronicos_articulos_hogar           3\n",
              "otros                                  4\n",
              "dtype: int64"
            ]
          },
          "metadata": {},
          "execution_count": 47
        }
      ]
    },
    {
      "cell_type": "code",
      "source": [
        "#De igual manera se utilizara la mediana ya que estos datos presentan un mayor numero de datos nulos y al ser ventas utilizar el promedio puede afectar el dataframe \n",
        "#siendo que el tambien utilizar un forward o un backward puede ser erroneo ya que no sabemos en donde se ubican nuestros datos nulos\n",
        "data[\"electronicos_articulos_hogar\"]=data[\"electronicos_articulos_hogar\"].fillna(round(data[\"electronicos_articulos_hogar\"].median(),1))\n",
        "data[\"otros\"]=data[\"otros\"].fillna(round(data[\"otros\"].median(),1))\n",
        "#Corroboramos valores nulos\n",
        "valores_nulos=data.isnull().sum()\n",
        "valores_nulos"
      ],
      "metadata": {
        "colab": {
          "base_uri": "https://localhost:8080/"
        },
        "id": "wtHkGNr9IFfa",
        "outputId": "1c33ca5e-08ec-49de-aaf6-208315526422"
      },
      "execution_count": 48,
      "outputs": [
        {
          "output_type": "execute_result",
          "data": {
            "text/plain": [
              "indice_tiempo                          0\n",
              "ventas_precios_corrientes              0\n",
              "ventas_precios_constantes              0\n",
              "ventas_totales_canal_venta             0\n",
              "salon_ventas                           0\n",
              "canales_on_line                        0\n",
              "ventas_totales_medio_pago              0\n",
              "efectivo                               0\n",
              "tarjetas_debito                        0\n",
              "tarjetas_credito                       0\n",
              "otros_medios                           0\n",
              "ventas_totales_grupo_articulos         0\n",
              "subtotal_ventas_alimentos_bebidas      0\n",
              "bebidas                                0\n",
              "almacen                                0\n",
              "panaderia                              0\n",
              "lacteos                                0\n",
              "carnes                                 0\n",
              "verduleria_fruteria                    0\n",
              "alimentos_preparados_rotiseria         0\n",
              "articulos_limpieza_perfumeria          0\n",
              "indumentaria_calzado_textiles_hogar    0\n",
              "electronicos_articulos_hogar           0\n",
              "otros                                  0\n",
              "dtype: int64"
            ]
          },
          "metadata": {},
          "execution_count": 48
        }
      ]
    },
    {
      "cell_type": "code",
      "source": [
        "#COMPROBACION \n",
        "valores_nulost=data.isnull().sum().sum()\n",
        "valores_nulost"
      ],
      "metadata": {
        "colab": {
          "base_uri": "https://localhost:8080/"
        },
        "id": "86wmZoHXI1Cx",
        "outputId": "f44743ff-a08b-43d5-960c-011dc6d31718"
      },
      "execution_count": 49,
      "outputs": [
        {
          "output_type": "execute_result",
          "data": {
            "text/plain": [
              "0"
            ]
          },
          "metadata": {},
          "execution_count": 49
        }
      ]
    },
    {
      "cell_type": "code",
      "source": [
        "#Convertir DataFrame a CSV\n",
        "data.to_csv(\"Datos_Nulos.csv\")\n",
        "#descargar archivo filtrado en csv\n",
        "from google.colab import files \n",
        "files.download(\"Datos_Nulos.csv\")"
      ],
      "metadata": {
        "id": "X7kr1EDeJVZS",
        "colab": {
          "base_uri": "https://localhost:8080/",
          "height": 17
        },
        "outputId": "20dbfa7e-a519-4a19-dd29-963a00e57401"
      },
      "execution_count": 50,
      "outputs": [
        {
          "output_type": "display_data",
          "data": {
            "text/plain": [
              "<IPython.core.display.Javascript object>"
            ],
            "application/javascript": [
              "\n",
              "    async function download(id, filename, size) {\n",
              "      if (!google.colab.kernel.accessAllowed) {\n",
              "        return;\n",
              "      }\n",
              "      const div = document.createElement('div');\n",
              "      const label = document.createElement('label');\n",
              "      label.textContent = `Downloading \"${filename}\": `;\n",
              "      div.appendChild(label);\n",
              "      const progress = document.createElement('progress');\n",
              "      progress.max = size;\n",
              "      div.appendChild(progress);\n",
              "      document.body.appendChild(div);\n",
              "\n",
              "      const buffers = [];\n",
              "      let downloaded = 0;\n",
              "\n",
              "      const channel = await google.colab.kernel.comms.open(id);\n",
              "      // Send a message to notify the kernel that we're ready.\n",
              "      channel.send({})\n",
              "\n",
              "      for await (const message of channel.messages) {\n",
              "        // Send a message to notify the kernel that we're ready.\n",
              "        channel.send({})\n",
              "        if (message.buffers) {\n",
              "          for (const buffer of message.buffers) {\n",
              "            buffers.push(buffer);\n",
              "            downloaded += buffer.byteLength;\n",
              "            progress.value = downloaded;\n",
              "          }\n",
              "        }\n",
              "      }\n",
              "      const blob = new Blob(buffers, {type: 'application/binary'});\n",
              "      const a = document.createElement('a');\n",
              "      a.href = window.URL.createObjectURL(blob);\n",
              "      a.download = filename;\n",
              "      div.appendChild(a);\n",
              "      a.click();\n",
              "      div.remove();\n",
              "    }\n",
              "  "
            ]
          },
          "metadata": {}
        },
        {
          "output_type": "display_data",
          "data": {
            "text/plain": [
              "<IPython.core.display.Javascript object>"
            ],
            "application/javascript": [
              "download(\"download_839ebf7d-caa7-415b-85e6-b39c8225d070\", \"Datos_Nulos.csv\", 18587)"
            ]
          },
          "metadata": {}
        }
      ]
    }
  ]
}